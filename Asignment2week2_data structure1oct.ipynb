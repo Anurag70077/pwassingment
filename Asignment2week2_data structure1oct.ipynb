{
 "cells": [
  {
   "cell_type": "markdown",
   "id": "7cc41dd2-3b68-4c57-b552-44dc55396e61",
   "metadata": {},
   "source": [
    "Q1. How do you comment code in Python? What are the different types of comments?"
   ]
  },
  {
   "cell_type": "markdown",
   "id": "0635ae54-84a2-4094-91a6-fd8c2d853c40",
   "metadata": {},
   "source": [
    "In Python,There are two main types of comments in Python:\n",
    "\n",
    "1 -Single-line Comments: Single-line comments are used for adding comments on a single line. In Python, you can create single-line comments using the # symbol. Anything following # on the same line is considered a comment and is ignored by the interpreter."
   ]
  },
  {
   "cell_type": "code",
   "execution_count": 1,
   "id": "abec3049-eba3-43ad-bceb-2da4a74ed54c",
   "metadata": {},
   "outputs": [
    {
     "name": "stdout",
     "output_type": "stream",
     "text": [
      "Hello, World!\n"
     ]
    }
   ],
   "source": [
    "# This is a single-line comment\n",
    "print(\"Hello, World!\")  # This is another comment\n"
   ]
  },
  {
   "cell_type": "markdown",
   "id": "ccfac928-d95f-4a43-b1ad-734f62e882e7",
   "metadata": {},
   "source": [
    "2 - Multi-line Comments (Docstrings): Multi-line comments are often used for documenting functions, classes, and modules. In Python, multi-line comments are created using triple-quotes (''' or \"\"\"). These are also known as docstrings. While not technically comments, they serve a similar purpose of providing documentation and can span multiple lines."
   ]
  },
  {
   "cell_type": "code",
   "execution_count": 4,
   "id": "2c53cf68-11f2-4bf3-9eea-67756ab07021",
   "metadata": {},
   "outputs": [
    {
     "data": {
      "text/plain": [
       "'This is a multi-line comment (docstring).It is often used for function or module documentation.'"
      ]
     },
     "execution_count": 4,
     "metadata": {},
     "output_type": "execute_result"
    }
   ],
   "source": [
    "'''This is a multi-line comment (docstring).It is often used for function or module documentation.'''"
   ]
  },
  {
   "cell_type": "markdown",
   "id": "011885ed-1046-414b-ba61-684e00c43ca7",
   "metadata": {},
   "source": [
    "Q2. What are variables in Python? How do you declare and assign values to variables?"
   ]
  },
  {
   "cell_type": "raw",
   "id": "579245ed-bf5f-479f-8d43-98cf94977e9b",
   "metadata": {},
   "source": [
    "In Python, variables are used to store and manage data. A variable is essentially a named storage location in the computer's memory where you can store and retrieve values. Variables can represent a wide range of data types, including numbers, text, lists, and more. \n",
    "\n",
    "1 -Variable Declaration:\n",
    "\n",
    "In Python, you don't need to explicitly declare the data type of a variable. Python dynamically determines the data type based on the assigned value. You simply give the variable a name.\n",
    "\n",
    "Variable names should follow certain rules:\n",
    "1-They can contain letters, numbers, and underscores.\n",
    "2-They must start with a letter (a-z, A-Z) or an underscore (_).\n",
    "3-Variable names are case-sensitive, meaning myVariable and myvariable are considered different variables.\n",
    "\n",
    "\n",
    "\n",
    "2- Variable Assignment:\n",
    "\n",
    "         To assign a value to a variable, use the assignment operator =. The variable name is on the left side of =, and the value you want to assign is on the right side.\n",
    "    You can assign different data types to the same variable name at different points in your code."
   ]
  },
  {
   "cell_type": "code",
   "execution_count": 6,
   "id": "22d82e97-654e-49e6-87df-7a6266b67bee",
   "metadata": {},
   "outputs": [],
   "source": [
    "# Variable assignment\n",
    "my_variable = 42  # Assigns the integer value 42 to my_variable\n",
    "name = \"John\"    # Assigns the string \"John\" to the variable name\n",
    "\n",
    "# You can reassign variables with different data types\n",
    "my_variable = \"Hello, World!\"  # Now my_variable contains a string"
   ]
  },
  {
   "cell_type": "raw",
   "id": "ee8dc843-49d0-4613-9520-70d8619a99f1",
   "metadata": {},
   "source": [
    "Q3. How do you convert one data type to another in Python?"
   ]
  },
  {
   "cell_type": "raw",
   "id": "195c4856-19c0-4000-96c3-43407d3a7447",
   "metadata": {},
   "source": [
    "In Python, you can convert one data type to another using a process known as \"type casting\" or \"type conversion.\" Python provides built-in functions and constructors for converting between various data types. Here are some common ways to perform type conversion:\n",
    "\n",
    "1 - Implicit Type Conversion (Coercion):\n",
    "\n",
    "Python automatically performs certain type conversions when it makes sense. This is often referred to as \"implicit\" or \"automatic\" type conversion.\n",
    "For example, when you add an integer and a floating-point number, Python will automatically convert the integer to a float to perform the addition."
   ]
  },
  {
   "cell_type": "code",
   "execution_count": 7,
   "id": "cc777100-b558-4f87-9a34-dda062e45322",
   "metadata": {},
   "outputs": [],
   "source": [
    "x = 5         # Integer\n",
    "y = 3.14      # Float\n",
    "result = x + y  # Implicit conversion of x to float\n"
   ]
  },
  {
   "cell_type": "raw",
   "id": "d44ffcd9-c7e0-4cf7-9897-b4bde92faaf0",
   "metadata": {},
   "source": [
    "2 - Explicit Type Conversion (Type Casting):\n",
    "\n",
    "You can explicitly convert data types using built-in functions or constructors. This is also known as \"explicit\" or \"manual\" type conversion.\n",
    "Common type conversion functions include int(), float(), str(), list(), tuple(), set(), and bool(), among others."
   ]
  },
  {
   "cell_type": "code",
   "execution_count": 8,
   "id": "405994ae-fe91-43ed-beb4-a82a60137930",
   "metadata": {},
   "outputs": [],
   "source": [
    "# Explicitly converting data types\n",
    "num_str = \"123\"\n",
    "num_int = int(num_str)    # Convert string to integer\n",
    "num_float = float(num_str)  # Convert string to float\n",
    "\n",
    "x = 42\n",
    "x_str = str(x)   # Convert integer to string"
   ]
  },
  {
   "cell_type": "raw",
   "id": "0eb86cd5-3e90-4872-9ac2-a57aad91c562",
   "metadata": {},
   "source": [
    "#List, Tuple, and Set Conversion:\n",
    "\n",
    "#You can convert between lists, tuples, and sets using the list(), tuple(), and set() constructors.\n"
   ]
  },
  {
   "cell_type": "raw",
   "id": "db181184-d55c-4d92-8044-855fe7232834",
   "metadata": {},
   "source": [
    "Q4 - To write and execute a Python script from the command line, follow these steps:\n",
    "\n",
    "**1. Writing a Python Script:**\n",
    "   - Open a text editor or code editor of your choice (e.g., Notepad, Visual Studio Code, Sublime Text, or any text editor available on your system).\n",
    "   - Write your Python code in the editor and save the file with a `.py` extension. For example, you can name it `myscript.py`.\n",
    "\n",
    "Example `myscript.py`:\n",
    "```python\n",
    "print(\"Hello, World!\")\n",
    "```\n",
    "\n",
    "**2. Opening the Command Line Interface:**\n",
    "   - Open a command line interface or terminal on your computer. The method for opening the command line depends on your operating system:\n",
    "     - On Windows, you can use the Command Prompt or PowerShell.\n",
    "     - On macOS, you can use Terminal.\n",
    "     - On Linux, you can use the Terminal or your preferred shell.\n",
    "\n",
    "**3. Navigating to the Script's Directory:**\n",
    "   - Use the `cd` (change directory) command to navigate to the directory where your Python script is saved. For example, if your script is in the Documents folder, you can use:\n",
    "\n",
    "```bash\n",
    "cd Documents\n",
    "```\n",
    "\n",
    "**4. Running the Python Script:**\n",
    "   - To execute the Python script, use the `python` command followed by the script's filename (including the `.py` extension).\n",
    "\n",
    "```bash\n",
    "python myscript.py\n",
    "```\n",
    "\n",
    "**5. Viewing the Output:**\n",
    "   - Press Enter to run the script.\n",
    "   - If your script contains any `print()` statements, you will see the output displayed in the command line.\n",
    "\n",
    "Example Output:\n",
    "```\n",
    "Hello, World!\n",
    "```"
   ]
  },
  {
   "cell_type": "markdown",
   "id": "9523dde2-13e3-4bf4-9d9c-fd4c7bca2d7c",
   "metadata": {},
   "source": [
    "Q5. Given a list my_list = [1, 2, 3, 4, 5], write the code to slice the list and obtain the sub-list [2, 3]."
   ]
  },
  {
   "cell_type": "code",
   "execution_count": 12,
   "id": "ae15b15a-6127-4066-a3b6-da9f65481e37",
   "metadata": {},
   "outputs": [
    {
     "name": "stdout",
     "output_type": "stream",
     "text": [
      "[2, 3]\n"
     ]
    }
   ],
   "source": [
    "my_list = [1, 2, 3, 4, 5]\n",
    "\n",
    "# Use slicing to obtain the sub-list [2, 3]\n",
    "sub_list = my_list[1:3]\n",
    "\n",
    "print(sub_list)\n"
   ]
  },
  {
   "cell_type": "markdown",
   "id": "70507606-db70-4279-95d6-925c583e7ec9",
   "metadata": {},
   "source": [
    "Q6. What is a complex number in mathematics, and how is it represented in Python?"
   ]
  },
  {
   "cell_type": "markdown",
   "id": "0160fe6c-ddd1-4d8c-9ef4-b7173e877088",
   "metadata": {},
   "source": [
    "In mathematics, a complex number is a number that can be expressed in the form \"a + bi,\" where \"a\" and \"b\" are real numbers, and \"i\" represents the imaginary unit. The imaginary unit \"i\" is defined as the square root of -1\n",
    "\n",
    "In Python, complex numbers are represented using the complex data type. Complex numbers can be created by using the complex() constructor or by simply using the letter \"j\" to represent the imaginary unit \"i\" (note that Python uses \"j\" instead of \"i\" for the imaginary unit).\n"
   ]
  },
  {
   "cell_type": "code",
   "execution_count": 13,
   "id": "1858097c-77e7-4849-80db-49cad9ff7f5d",
   "metadata": {},
   "outputs": [],
   "source": [
    "# Using the complex() constructor\n",
    "z1 = complex(3, 2)   # Represents 3 + 2i\n",
    "z2 = complex(-1, -4) # Represents -1 - 4i\n",
    "\n",
    "# Using the \"j\" notation\n",
    "z3 = 5j              # Represents 0 + 5i (purely imaginary)\n",
    "z4 = 2 - 3j          # Represents 2 - 3i\n",
    "\n",
    "# Complex numbers can be used in arithmetic operations\n",
    "result = z1 + z2     # Adds z1 and z2"
   ]
  },
  {
   "cell_type": "markdown",
   "id": "e302037c-bce0-49c8-9b2b-3810d714eeda",
   "metadata": {},
   "source": [
    "Q7. What is the correct way to declare a variable named age and assign the value 25 to it?"
   ]
  },
  {
   "cell_type": "code",
   "execution_count": 14,
   "id": "73658744-dc8c-4a91-a59f-68baf0d02efc",
   "metadata": {},
   "outputs": [],
   "source": [
    "age = 25"
   ]
  },
  {
   "cell_type": "markdown",
   "id": "1817ca8e-527f-409c-abbd-38a848e5a9cd",
   "metadata": {},
   "source": [
    "Q8. Declare a variable named price and assign the value 9.99 to it. What data type does this variable\n",
    "belong to?\n"
   ]
  },
  {
   "cell_type": "code",
   "execution_count": 15,
   "id": "6d60a9ad-1a88-4724-8f5f-7bcca0ffc47f",
   "metadata": {},
   "outputs": [],
   "source": [
    "price = 9.99"
   ]
  },
  {
   "cell_type": "code",
   "execution_count": 16,
   "id": "8201d6c9-4b06-47e4-b6a8-0e6e35f12d1f",
   "metadata": {},
   "outputs": [
    {
     "data": {
      "text/plain": [
       "float"
      ]
     },
     "execution_count": 16,
     "metadata": {},
     "output_type": "execute_result"
    }
   ],
   "source": [
    "type(price)"
   ]
  },
  {
   "cell_type": "markdown",
   "id": "6b3a7061-982d-4e00-92ff-930f8ba53c8b",
   "metadata": {},
   "source": [
    "Q9. Create a variable named name and assign your full name to it as a string. How would you print the\n",
    "value of this variable?"
   ]
  },
  {
   "cell_type": "code",
   "execution_count": 17,
   "id": "bc9f1d28-5745-43be-a929-5a69fe9a1f97",
   "metadata": {},
   "outputs": [
    {
     "name": "stdout",
     "output_type": "stream",
     "text": [
      "Anurag Mishra\n"
     ]
    }
   ],
   "source": [
    "name = 'Anurag Mishra'\n",
    "print(name)"
   ]
  },
  {
   "cell_type": "markdown",
   "id": "3073f9a2-4ad3-4f34-838b-14def4a31c19",
   "metadata": {},
   "source": [
    "Q10. Given the string \"Hello, World!\", extract the substring \"World\"."
   ]
  },
  {
   "cell_type": "code",
   "execution_count": 18,
   "id": "c6e7d78a-67fd-404c-9839-2c41d4fdac54",
   "metadata": {},
   "outputs": [
    {
     "name": "stdout",
     "output_type": "stream",
     "text": [
      "World\n"
     ]
    }
   ],
   "source": [
    "original_string = \"Hello, World!\"\n",
    "substring = original_string[7:12]\n",
    "print(substring)"
   ]
  },
  {
   "cell_type": "code",
   "execution_count": null,
   "id": "776ac57e-6851-4b23-938d-edc78274fa52",
   "metadata": {},
   "outputs": [],
   "source": []
  }
 ],
 "metadata": {
  "kernelspec": {
   "display_name": "Python 3 (ipykernel)",
   "language": "python",
   "name": "python3"
  },
  "language_info": {
   "codemirror_mode": {
    "name": "ipython",
    "version": 3
   },
   "file_extension": ".py",
   "mimetype": "text/x-python",
   "name": "python",
   "nbconvert_exporter": "python",
   "pygments_lexer": "ipython3",
   "version": "3.10.8"
  }
 },
 "nbformat": 4,
 "nbformat_minor": 5
}
