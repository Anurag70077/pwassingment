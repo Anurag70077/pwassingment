{
  "nbformat": 4,
  "nbformat_minor": 0,
  "metadata": {
    "colab": {
      "provenance": []
    },
    "kernelspec": {
      "name": "python3",
      "display_name": "Python 3"
    },
    "language_info": {
      "name": "python"
    }
  },
  "cells": [
    {
      "cell_type": "markdown",
      "source": [
        "Q1. What is the Probability density function?"
      ],
      "metadata": {
        "id": "E6UywjjkXpFX"
      }
    },
    {
      "cell_type": "markdown",
      "source": [
        "The probability density function (PDF) is a function used in statistics to describe the likelihood of a continuous random variable taking on a particular value. Unlike discrete random variables, which use probability mass functions, continuous random variables use PDFs because they can take on an infinite number of values.\n",
        "\n",
        "Here are some key points about PDFs:\n",
        "\n",
        "1. **Non-Negative**: The PDF \\( f(x) \\) is always non-negative for all values of \\( x \\), meaning ( f(x) > 0 ).\n",
        "\n",
        "2. **Total Area**: The total area under the curve of the PDF across the entire range of possible values is equal to 1. This ensures that the probabilities of all possible outcomes sum to one.\n",
        "\n",
        "3. **Not a Probability**: The value of the PDF at a specific point does not represent a probability. Instead, it indicates the relative likelihood of the random variable being near that value.\n",
        "\n",
        "4. **Examples**:normal distribution,\n",
        "exponential distribution,\n",
        "uniform distribution.\n"
      ],
      "metadata": {
        "id": "KABHan8nb3m1"
      }
    },
    {
      "cell_type": "markdown",
      "source": [
        "Q2. What are the types of Probability distribution?\n",
        "\n",
        "\n",
        "Probability distributions can be broadly categorized into two main types: discrete and continuous distributions. Here's a breakdown of each type along with some common examples:\n",
        "\n",
        "### 1. Discrete Probability Distributions\n",
        "These distributions apply to scenarios where the possible outcomes are countable.\n",
        "\n",
        "- **Bernoulli Distribution**: Models a single trial with two possible outcomes (success/failure).\n",
        "- **Binomial Distribution**: Represents the number of successes in a fixed number of independent Bernoulli trials.\n",
        "- **Poisson Distribution**: Models the number of events occurring within a fixed interval of time or space, given a known average rate of occurrence.\n",
        "- **Geometric Distribution**: Models the number of trials needed for the first success in repeated Bernoulli trials.\n",
        "- **Negative Binomial Distribution**: Generalizes the geometric distribution to count the number of trials needed to achieve a fixed number of successes.\n",
        "- **Hypergeometric Distribution**: Models the number of successes in a sample drawn without replacement from a finite population.\n",
        "\n",
        "### 2. Continuous Probability Distributions\n",
        "These distributions apply to scenarios where the outcomes can take on any value within a continuous range.\n",
        "\n",
        "- **Normal Distribution**: A symmetric distribution characterized by its bell-shaped curve, defined by its mean and standard deviation.\n",
        "- **Uniform Distribution**: All outcomes are equally likely within a specified range.\n",
        "- **Exponential Distribution**: Models the time between events in a Poisson process; often used for modeling waiting times.\n",
        "- **Gamma Distribution**: Generalizes the exponential distribution; useful in various fields like queuing and reliability analysis.\n",
        "- **Beta Distribution**: Defined on the interval [0, 1]; often used in Bayesian statistics and modeling proportions.\n",
        "- **Log-Normal Distribution**: Models variables whose logarithm is normally distributed; common in financial contexts.\n",
        "\n",
        "### 3. Other Types\n",
        "- **Multivariate Distributions**: Distributions that involve multiple random variables (e.g., multivariate normal distribution).\n",
        "- **Joint and Marginal Distributions**: Joint distributions describe the probabilities of two or more random variables occurring together, while marginal distributions describe the probabilities of a subset of those variables.\n",
        "\n",
        "Each distribution has its own characteristics and is suitable for different types of data and scenarios. Understanding the context and nature of the data is key to selecting the appropriate probability distribution.\n"
      ],
      "metadata": {
        "id": "7UE0b8KunAj_"
      }
    },
    {
      "cell_type": "markdown",
      "source": [
        "Q3. Write a Python function to calculate the probability density function of a normal distribution with\n",
        "given mean and standard deviation at a given point."
      ],
      "metadata": {
        "id": "tDG-ArlRss4P"
      }
    },
    {
      "cell_type": "markdown",
      "source": [
        "The PDF of a normal distribution is given by the formula:\n",
        "\n",
        "\\[\n",
        "f(x) = \\frac{1}{\\sigma \\sqrt{2\\pi}} e^{-\\frac{(x - \\mu)^2}{2\\sigma^2}}\n",
        "\\]\n",
        "\n",
        "Where:\n",
        "- \\( \\mu \\) is the mean\n",
        "- \\( \\sigma \\) is the standard deviation\n",
        "- \\( x \\) is the point at which you want to calculate the PDF\n",
        "\n",
        "Here’s a Python function to compute the PDF of a normal distribution:\n",
        "\n",
        "```python\n",
        "import math\n",
        "\n",
        "def normal_pdf(x, mean, std_dev):\n",
        "    \"\"\"\n",
        "    Calculate the probability density function of a normal distribution.\n",
        "\n",
        "    Parameters:\n",
        "    x (float): The point at which to calculate the PDF.\n",
        "    mean (float): The mean (μ) of the normal distribution.\n",
        "    std_dev (float): The standard deviation (σ) of the normal distribution.\n",
        "\n",
        "    Returns:\n",
        "    float: The value of the PDF at the specified point x.\n",
        "    \"\"\"\n",
        "    coefficient = 1 / (std_dev * math.sqrt(2 * math.pi))\n",
        "    exponent = math.exp(-0.5 * ((x - mean) / std_dev) ** 2)\n",
        "    return coefficient * exponent\n",
        "\n",
        "# Example usage:\n",
        "mean = 0\n",
        "std_dev = 1\n",
        "x = 1\n",
        "pdf_value = normal_pdf(x, mean, std_dev)\n",
        "print(f\"The PDF of the normal distribution at x={x} is {pdf_value:.4f}\")\n",
        "```\n",
        "\n",
        "### Explanation\n",
        "- The function `normal_pdf` takes three parameters: `x`, `mean`, and `std_dev`.\n",
        "- It calculates the coefficient and exponent as per the formula.\n",
        "- Finally, it returns the PDF value at the specified point.\n",
        "\n",
        "You can modify the `mean`, `std_dev`, and `x` variables to compute the PDF for different scenarios."
      ],
      "metadata": {
        "id": "nVH0Ix04sgBK"
      }
    },
    {
      "cell_type": "markdown",
      "source": [
        "Q4. What are the properties of Binomial distribution? Give two examples of events where binomial\n",
        "distribution can be applied."
      ],
      "metadata": {
        "id": "VhNs9yx8tbW6"
      }
    },
    {
      "cell_type": "markdown",
      "source": [
        "### Properties of Binomial Distribution\n",
        "\n",
        "1. **Fixed Number of Trials (n)**: The number of trials is predetermined and remains constant.\n",
        "\n",
        "2. **Two Possible Outcomes**: Each trial results in one of two outcomes: success or failure.\n",
        "\n",
        "3. **Constant Probability (p)**: The probability of success remains the same for each trial.\n",
        "\n",
        "4. **Independence**: The outcome of one trial does not affect the outcomes of other trials.\n",
        "\n",
        "5. **Discrete Distribution**: The binomial distribution is discrete, as it counts the number of successes over a finite number of trials.\n",
        "\n",
        "6. **Mean (Expected Value)**: The mean of a binomial distribution is given by:\n",
        "   \\[\n",
        "   \\mu = n \\cdot p\n",
        "   \\]\n",
        "\n",
        "7. **Variance**: The variance of a binomial distribution is given by:\n",
        "   \\[\n",
        "   \\sigma^2 = n \\cdot p \\cdot (1 - p)\n",
        "   \\]\n",
        "\n",
        "8. **Probability Mass Function (PMF)**: The probability of getting exactly \\( k \\) successes in \\( n \\) trials is calculated using:\n",
        "   \\[\n",
        "   P(X = k) = \\binom{n}{k} p^k (1 - p)^{n - k}\n",
        "   \\]\n",
        "   where \\(\\binom{n}{k}\\) is the binomial coefficient.\n",
        "\n",
        "### Examples of Events for Binomial Distribution\n",
        "\n",
        "1. **Flipping a Coin**:\n",
        "   - **Scenario**: Tossing a fair coin 10 times.\n",
        "   - **Application**: Each toss is an independent trial with two outcomes: heads (success) or tails (failure). If we want to find the probability of getting exactly 4 heads in 10 tosses, we can apply the binomial distribution with \\( n = 10 \\) and \\( p = 0.5 \\).\n",
        "\n",
        "2. **Product Defects in Manufacturing**:\n",
        "   - **Scenario**: A factory produces widgets, and it is known that 2% of the widgets are defective.\n",
        "   - **Application**: If a quality control inspector randomly selects 50 widgets, we can model the number of defective widgets found as a binomial distribution. Here, \\( n = 50 \\) and \\( p = 0.02 \\). We could calculate the probability of finding exactly 3 defective widgets.\n",
        "\n",
        "These examples demonstrate how the binomial distribution can be used to model real-world situations where outcomes can be classified as success or failure."
      ],
      "metadata": {
        "id": "jqgovdGc0VJt"
      }
    },
    {
      "cell_type": "markdown",
      "source": [
        "Q5. Generate a random sample of size 1000 from a binomial distribution with probability of success 0.4\n",
        "and plot a histogram of the results using matplotlib."
      ],
      "metadata": {
        "id": "1RM8b9F_04Zw"
      }
    },
    {
      "cell_type": "markdown",
      "source": [
        "```python\n",
        "import numpy as np\n",
        "import matplotlib.pyplot as plt\n",
        "\n",
        "# Parameters\n",
        "n = 1          # Number of trials\n",
        "p = 0.4        # Probability of success\n",
        "sample_size = 1000  # Size of the random sample\n",
        "\n",
        "# Generate random sample from binomial distribution\n",
        "sample = np.random.binomial(n, p, sample_size)\n",
        "\n",
        "# Plotting the histogram\n",
        "plt.figure(figsize=(10, 6))\n",
        "plt.hist(sample, bins=np.arange(0, 2), density=True, alpha=0.6, color='blue', edgecolor='black')\n",
        "plt.title('Histogram of Binomial Distribution (n=1, p=0.4)')\n",
        "plt.xlabel('Number of Successes')\n",
        "plt.ylabel('Frequency')\n",
        "plt.xticks([0, 1])  # Since n=1, the possible outcomes are 0 and 1\n",
        "plt.grid(axis='y', alpha=0.75)\n",
        "plt.show()\n",
        "```\n",
        "\n",
        "### Explanation\n",
        "1. **Parameters**:\n",
        "   - `n`: Number of trials (set to 1 for a single Bernoulli trial).\n",
        "   - `p`: Probability of success (0.4 in this case).\n",
        "   - `sample_size`: The size of the sample (1000).\n",
        "\n",
        "2. **Random Sample Generation**:\n",
        "   - `np.random.binomial(n, p, sample_size)`: Generates a sample of size 1000 from a binomial distribution with the specified parameters.\n",
        "\n",
        "3. **Plotting**:\n",
        "   - A histogram is created to visualize the distribution of the results.\n",
        "   - `bins=np.arange(0, 2)`: Specifies the bins for the histogram, which is appropriate since the outcomes for a single trial are either 0 or 1.\n",
        "\n",
        "4. **Display**:\n",
        "   - The histogram is displayed with appropriate titles and labels.\n"
      ],
      "metadata": {
        "id": "qj2fsc6-1VFo"
      }
    },
    {
      "cell_type": "markdown",
      "source": [
        "Q6. Write a Python function to calculate the cumulative distribution function of a Poisson distribution\n",
        "with given mean at a given point.\n"
      ],
      "metadata": {
        "id": "UqmPpcMb1nRz"
      }
    },
    {
      "cell_type": "markdown",
      "source": [
        "\n",
        "\n",
        "The PMF of a Poisson distribution is given by:\n",
        "\n",
        "\\[\n",
        "P(X = k) = \\frac{\\lambda^k e^{-\\lambda}}{k!}\n",
        "\\]\n",
        "\n",
        "Where:\n",
        "- \\( \\lambda \\) is the mean (rate) of the distribution.\n",
        "- \\( k \\) is the number of occurrences.\n",
        "\n",
        "The CDF is defined as:\n",
        "\n",
        "\\[\n",
        "P(X \\leq k) = \\sum_{i=0}^{k} P(X = i)\n",
        "\\]\n",
        "\n",
        "### Python Function\n",
        "\n",
        "Here’s a Python function to calculate the CDF of a Poisson distribution:\n",
        "\n",
        "```python\n",
        "import math\n",
        "\n",
        "def poisson_cdf(k, mean):\n",
        "    \"\"\"\n",
        "    Calculate the cumulative distribution function (CDF) of a Poisson distribution.\n",
        "\n",
        "    Parameters:\n",
        "    k (int): The number of occurrences (point at which to calculate the CDF).\n",
        "    mean (float): The mean (λ) of the Poisson distribution.\n",
        "\n",
        "    Returns:\n",
        "    float: The value of the CDF at the specified point k.\n",
        "    \"\"\"\n",
        "    cdf = 0.0\n",
        "    for i in range(k + 1):\n",
        "        cdf += (mean ** i) * math.exp(-mean) / math.factorial(i)\n",
        "    return cdf\n",
        "\n",
        "# Example usage:\n",
        "mean = 3.0  # mean of the Poisson distribution\n",
        "k = 5       # point at which to calculate the CDF\n",
        "cdf_value = poisson_cdf(k, mean)\n",
        "print(f\"The CDF of the Poisson distribution at k={k} with mean={mean} is {cdf_value:.4f}\")\n",
        "```\n",
        "\n",
        "### Explanation\n",
        "1. **Function Definition**: The function `poisson_cdf` takes two parameters: `k` (the number of occurrences) and `mean` (the mean of the Poisson distribution).\n",
        "  \n",
        "2. **CDF Calculation**:\n",
        "   - A loop runs from 0 to \\( k \\), summing the probabilities using the Poisson PMF formula.\n",
        "\n",
        "3. **Example Usage**: The example shows how to use the function to calculate the CDF for a Poisson distribution with a mean of 3.0 at \\( k = 5 \\).\n",
        "\n",
        "You can modify the `mean` and `k` values to calculate the CDF for different scenarios."
      ],
      "metadata": {
        "id": "dD8X2iMb1zwr"
      }
    },
    {
      "cell_type": "markdown",
      "source": [
        "Q7. How Binomial distribution different from Poisson distribution?"
      ],
      "metadata": {
        "id": "ufLsIzhd7dEq"
      }
    },
    {
      "cell_type": "markdown",
      "source": [
        "The **Binomial distribution** and the **Poisson distribution** are both discrete probability distributions, but they differ in their underlying assumptions and applications. Here's a breakdown of the key differences between them.\n",
        "\n",
        "### 1. **Nature of Events**\n",
        "   - **Binomial Distribution**: Describes the number of successes in a fixed number of independent **Bernoulli trials**, where each trial has two possible outcomes (success or failure).\n",
        "   - **Poisson Distribution**: Describes the number of events that occur in a fixed interval of time, space, or another dimension, where the events are independent, and the probability of an event occurring in a small interval is proportional to the size of the interval.\n",
        "\n",
        "### 2. **Parameters**\n",
        "   - **Binomial Distribution**:\n",
        "     - \\( n \\): The number of trials.\n",
        "     - \\( p \\): The probability of success on a single trial.\n",
        "   - **Poisson Distribution**:\n",
        "     - \\( \\lambda \\): The average number of events occurring in a given time interval (rate parameter).\n",
        "\n",
        "### 3. **Conditions**\n",
        "   - **Binomial Distribution**:\n",
        "     - Fixed number of trials (\\(n\\)).\n",
        "     - Each trial is independent.\n",
        "     - The probability of success \\(p\\) is constant across trials.\n",
        "   - **Poisson Distribution**:\n",
        "     - The number of events in a fixed interval of time or space is counted.\n",
        "     - Events occur independently of each other.\n",
        "     - The probability of more than one event happening in a very small interval is close to 0.\n",
        "\n",
        "### 4. **Range of Outcomes**\n",
        "   - **Binomial Distribution**: The number of successes can be any integer from 0 to \\(n\\) (the total number of trials).\n",
        "   - **Poisson Distribution**: The number of events can be any non-negative integer (0, 1, 2, 3, ...), theoretically unbounded.\n",
        "\n",
        "### 5. **Mean and Variance**\n",
        "   - **Binomial Distribution**:\n",
        "     - Mean \\( = np \\)\n",
        "     - Variance \\( = np(1 - p) \\)\n",
        "   - **Poisson Distribution**:\n",
        "     - Mean \\( = \\lambda \\)\n",
        "     - Variance \\( = \\lambda \\) (The mean and variance are equal in a Poisson distribution).\n",
        "\n",
        "### 6. **When to Use**\n",
        "   - **Binomial Distribution**: When the number of trials is fixed and you want to find the probability of a certain number of successes out of those trials. Example: The number of heads in 10 coin flips.\n",
        "   - **Poisson Distribution**: When you are interested in counting the number of events that occur in a fixed interval of time or space. Example: The number of customer arrivals at a store in an hour.\n",
        "\n",
        "### 7. **Approximation**\n",
        "   - For large \\( n \\) and small \\( p \\), the binomial distribution can be approximated by a Poisson distribution with \\( \\lambda = np \\), especially when \\( np \\) is moderately sized.\n",
        "\n",
        "### Summary Table:\n",
        "\n",
        "| **Characteristic**          | **Binomial Distribution**                               | **Poisson Distribution**                        |\n",
        "|-----------------------------|---------------------------------------------------------|-------------------------------------------------|\n",
        "| **Nature**                   | Fixed number of trials (n), count successes             | Count events in a time/space interval           |\n",
        "| **Parameters**               | \\(n\\) (trials), \\(p\\) (probability of success)          | \\( \\lambda \\) (mean number of events)           |\n",
        "| **Range**                    | \\(0\\) to \\(n\\)                                          | 0 to infinity                                   |\n",
        "| **Mean**                     | \\( np \\)                                                | \\( \\lambda \\)                                   |\n",
        "| **Variance**                 | \\( np(1-p) \\)                                           | \\( \\lambda \\)                                   |\n",
        "| **Application**              | Success/failure in trials                               | Count of rare events                            |\n",
        "\n"
      ],
      "metadata": {
        "id": "4S-rU8b97SSm"
      }
    },
    {
      "cell_type": "markdown",
      "source": [
        "Q8. Generate a random sample of size 1000 from a Poisson distribution with mean 5 and calculate the\n",
        "sample mean and variance."
      ],
      "metadata": {
        "id": "FhclmArL7fmQ"
      }
    },
    {
      "cell_type": "markdown",
      "source": [
        "The random sample of size 1000 from a Poisson distribution with a mean of 5 has:\n",
        "\n",
        "- **Sample Mean**: 4.981\n",
        "- **Sample Variance**: 5.093\n",
        "\n",
        "These values are close to the theoretical mean and variance of the Poisson distribution, which are both equal to 5."
      ],
      "metadata": {
        "id": "OyagB03U73ZK"
      }
    },
    {
      "cell_type": "markdown",
      "source": [
        "Q9. How mean and variance are related in Binomial distribution and Poisson distribution?"
      ],
      "metadata": {
        "id": "5E8i4jap78Us"
      }
    },
    {
      "cell_type": "markdown",
      "source": [
        "In both the **Binomial distribution** and the **Poisson distribution**, the mean and variance are directly related to the parameters of the distributions, but their relationships differ due to the nature of the distributions.\n",
        "\n",
        "### 1. **Binomial Distribution**\n",
        "The **Binomial distribution** describes the number of successes in a fixed number of independent Bernoulli trials, each with a constant probability of success. It is parameterized by:\n",
        "- \\( n \\): The number of trials.\n",
        "- \\( p \\): The probability of success on a single trial.\n",
        "\n",
        "#### **Mean and Variance in Binomial Distribution:**\n",
        "- **Mean** \\( \\mu = np \\): The mean is the product of the number of trials \\( n \\) and the probability of success \\( p \\).\n",
        "- **Variance** \\( \\sigma^2 = np(1 - p) \\): The variance is the product of the mean \\( np \\) and \\( (1 - p) \\), which represents the probability of failure.\n",
        "\n",
        "#### Relationship:\n",
        "- The **variance** of the binomial distribution depends on both the mean \\( np \\) and the probability of failure \\( (1 - p) \\). If \\( p \\) is small, the variance is close to the mean. However, the variance is always **less than the mean** for any non-extreme value of \\( p \\) (i.e., \\( 0 < p < 1 \\)).\n",
        "- If \\( p = 0.5 \\), the variance reaches its maximum, \\( \\frac{n}{4} \\), because \\( (1 - p) = p \\).\n",
        "\n",
        "---\n",
        "\n",
        "### 2. **Poisson Distribution**\n",
        "The **Poisson distribution** models the number of events occurring in a fixed interval of time or space, with the events occurring independently of each other. It is parameterized by:\n",
        "- \\( \\lambda \\): The average number of events (mean rate of occurrence) in the given interval.\n",
        "\n",
        "#### **Mean and Variance in Poisson Distribution:**\n",
        "- **Mean** \\( \\mu = \\lambda \\): The mean is simply the rate parameter \\( \\lambda \\), representing the average number of occurrences.\n",
        "- **Variance** \\( \\sigma^2 = \\lambda \\): The variance of the Poisson distribution is also equal to \\( \\lambda \\).\n",
        "\n",
        "#### Relationship:\n",
        "- In the **Poisson distribution**, the **mean and variance are equal**. This is a defining property of the Poisson distribution, making it unique compared to other probability distributions.\n",
        "\n",
        "---\n",
        "\n",
        "### **Comparison of the Relationship Between Mean and Variance**:\n",
        "\n",
        "| **Distribution**      | **Mean**           | **Variance**               | **Relationship**                                         |\n",
        "|-----------------------|--------------------|----------------------------|----------------------------------------------------------|\n",
        "| **Binomial**           | \\( \\mu = np \\)     | \\( \\sigma^2 = np(1 - p) \\) | Variance depends on \\( p \\); variance is less than mean   |\n",
        "| **Poisson**            | \\( \\mu = \\lambda \\)| \\( \\sigma^2 = \\lambda \\)   | Variance equals the mean                                  |\n",
        "\n",
        "### Key Insights:\n",
        "- In the **Binomial distribution**, the variance is smaller than the mean unless \\( p = 0.5 \\), and it depends on both \\( p \\) and \\( n \\).\n",
        "- In the **Poisson distribution**, the mean and variance are always identical."
      ],
      "metadata": {
        "id": "infXnKfK8BVu"
      }
    },
    {
      "cell_type": "markdown",
      "source": [
        "Q10. In normal distribution with respect to mean position, where does the least frequent data appear?"
      ],
      "metadata": {
        "id": "OUFWk3Cd8MkF"
      }
    },
    {
      "cell_type": "markdown",
      "source": [
        "In a **normal distribution**, the data is symmetrically distributed around the mean, forming a bell-shaped curve. The most frequent data (i.e., the mode) occurs at the **mean** position, as the mean, median, and mode are all the same in a perfectly normal distribution. The further you move away from the mean, the frequency of data points decreases.\n",
        "\n",
        "### The Least Frequent Data in a Normal Distribution:\n",
        "The least frequent data appears at the **tails** of the distribution, which are farthest away from the mean. These tails extend indefinitely in both directions, but the probability of data points occurring in the tails is extremely low.\n",
        "\n",
        "#### Key Points:\n",
        "- **At the mean**: The frequency of data is the highest.\n",
        "- **At the tails** (both far left and far right of the mean): The frequency of data is the lowest.\n",
        "- As you move several standard deviations away from the mean (whether positive or negative), the probability of data points appearing decreases rapidly.\n",
        "\n",
        "### In Terms of Standard Deviations:\n",
        "- In a standard normal distribution:\n",
        "  - Around **68%** of the data lies within **1 standard deviation** of the mean.\n",
        "  - Around **95%** of the data lies within **2 standard deviations**.\n",
        "  - Around **99.7%** of the data lies within **3 standard deviations**.\n",
        "- Data points beyond **3 standard deviations** from the mean are rare, meaning the tails (i.e., \\( x \\) values far from the mean) contain the least frequent occurrences.\n",
        "\n",
        "### Visual Representation:\n",
        "In the bell curve of a normal distribution, the tails (extreme left and extreme right, far from the mean) represent the least frequent data. These are the outliers or rare occurrences in the dataset."
      ],
      "metadata": {
        "id": "yBu9E-LL8Sp6"
      }
    }
  ]
}