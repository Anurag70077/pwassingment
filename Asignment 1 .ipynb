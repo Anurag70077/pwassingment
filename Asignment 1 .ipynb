{
 "cells": [
  {
   "cell_type": "markdown",
   "id": "6ec068fe-74aa-40d8-a07c-269b3a457a55",
   "metadata": {},
   "source": [
    "Asignment 1"
   ]
  },
  {
   "cell_type": "raw",
   "id": "93ea0d63-5df0-405d-bc83-2125b787ac55",
   "metadata": {},
   "source": [
    "Q1. Create one variable containing following type of data:\n",
    "(i) string\n",
    "(ii) list\n",
    "(iii) float\n",
    "(iv) tuple"
   ]
  },
  {
   "cell_type": "raw",
   "id": "61b8b5f6-2e74-470c-8d1d-e223f1965956",
   "metadata": {},
   "source": [
    "example of creating variables with different data types in Python:"
   ]
  },
  {
   "cell_type": "code",
   "execution_count": 1,
   "id": "14a307c8-1444-45a4-934d-3c582fc2dd95",
   "metadata": {},
   "outputs": [],
   "source": [
    "# String variable\n",
    "my_string = \"Hello, World!\"\n",
    "\n",
    "# List variable\n",
    "my_list = [1, 2, 3, 4, 5]\n",
    "\n",
    "# Float variable\n",
    "my_float = 3.14159\n",
    "\n",
    "# Tuple variable\n",
    "my_tuple = (10, 20, 30, 40, 50)\n"
   ]
  },
  {
   "cell_type": "raw",
   "id": "a0d5f4aa-dd6e-469f-bc92-ea210ffa2954",
   "metadata": {},
   "source": [
    "Q2. Given are some following variables containing data:\n",
    "\n",
    "(i)\tvar1 = ‘ ‘\n",
    "\n",
    "(ii)\tvar2 = ‘[ DS , ML , Python]’\n",
    "\n",
    "(iii)\tvar3 = [ ‘DS’ , ’ML’ , ‘Python’ ]\n",
    "\n",
    "(iv)\tvar4 = 1.\n",
    "What will be the data type of the above given variable."
   ]
  },
  {
   "cell_type": "code",
   "execution_count": 3,
   "id": "ebd59865-38e3-44c2-92de-ac36bd6cb8e6",
   "metadata": {},
   "outputs": [],
   "source": [
    "var1 = ''"
   ]
  },
  {
   "cell_type": "code",
   "execution_count": 4,
   "id": "0e6999f0-c4ec-4f1a-b5a9-82b1ff446768",
   "metadata": {},
   "outputs": [
    {
     "data": {
      "text/plain": [
       "str"
      ]
     },
     "execution_count": 4,
     "metadata": {},
     "output_type": "execute_result"
    }
   ],
   "source": [
    "type (var1)"
   ]
  },
  {
   "cell_type": "code",
   "execution_count": 5,
   "id": "ec598588-ec4c-4426-9a4c-632c787a020c",
   "metadata": {},
   "outputs": [],
   "source": [
    "#This variable contains a single space enclosed in single quotes. It's a string with one character (a space)."
   ]
  },
  {
   "cell_type": "code",
   "execution_count": 8,
   "id": "de051e24-06b8-4437-8f5f-62491eb0afe0",
   "metadata": {},
   "outputs": [],
   "source": [
    "var2 = '[ DS , ML , Python]'"
   ]
  },
  {
   "cell_type": "code",
   "execution_count": 9,
   "id": "bacd7cfd-23a4-46b0-802b-bd4be5d866cc",
   "metadata": {},
   "outputs": [
    {
     "data": {
      "text/plain": [
       "str"
      ]
     },
     "execution_count": 9,
     "metadata": {},
     "output_type": "execute_result"
    }
   ],
   "source": [
    "type (var2)"
   ]
  },
  {
   "cell_type": "code",
   "execution_count": 10,
   "id": "f1443ed2-05b6-4b0c-b605-140a9603ac6d",
   "metadata": {},
   "outputs": [],
   "source": [
    "#This variable contains a string that looks like a list but is still a string because it's enclosed in single quotes. It's a string data type."
   ]
  },
  {
   "cell_type": "code",
   "execution_count": 13,
   "id": "8dc0d41a-83f1-46f1-9017-2e07391928d1",
   "metadata": {},
   "outputs": [],
   "source": [
    "var3 = ['DS' ,'ML' , 'Python' ]"
   ]
  },
  {
   "cell_type": "code",
   "execution_count": 14,
   "id": "4dd01602-c919-4c68-9a45-a5c46369a611",
   "metadata": {},
   "outputs": [
    {
     "data": {
      "text/plain": [
       "list"
      ]
     },
     "execution_count": 14,
     "metadata": {},
     "output_type": "execute_result"
    }
   ],
   "source": [
    "type (var3)"
   ]
  },
  {
   "cell_type": "code",
   "execution_count": 15,
   "id": "616a6798-4dba-42cc-a09f-bb6374a255d9",
   "metadata": {},
   "outputs": [],
   "source": [
    " #This variable contains a list of strings. It's a list data type."
   ]
  },
  {
   "cell_type": "code",
   "execution_count": 16,
   "id": "7ba8dd8e-09dd-4123-9f97-0c9c1a1503ee",
   "metadata": {},
   "outputs": [],
   "source": [
    "var4 = 1."
   ]
  },
  {
   "cell_type": "code",
   "execution_count": 17,
   "id": "95741c95-989b-4052-b748-9a68ba3d0be4",
   "metadata": {},
   "outputs": [
    {
     "data": {
      "text/plain": [
       "float"
      ]
     },
     "execution_count": 17,
     "metadata": {},
     "output_type": "execute_result"
    }
   ],
   "source": [
    "type(var4)"
   ]
  },
  {
   "cell_type": "code",
   "execution_count": 18,
   "id": "95490f9f-6ee1-41a4-a2be-7ea2379909c7",
   "metadata": {},
   "outputs": [],
   "source": [
    "#This variable contains a floating-point number (a decimal number). It's a float data type."
   ]
  },
  {
   "cell_type": "raw",
   "id": "9b31830e-c722-49a8-8dca-79e207498f3b",
   "metadata": {},
   "source": [
    "(i) var1 is of type str (string).\n",
    "(ii) var2 is of type str (string).\n",
    "(iii) var3 is of type list.\n",
    "(iv) var4 is of type float."
   ]
  },
  {
   "cell_type": "raw",
   "id": "4888e037-0f95-4e62-bc66-3fdb489b9c8d",
   "metadata": {},
   "source": [
    "Q3. Explain the use of the following operators using an example:\n",
    "\n",
    "(i)\t/\n",
    "\n",
    "(ii)\t% \n",
    "\n",
    "(iii)\t//\n",
    "\n",
    "(iv)\t**"
   ]
  },
  {
   "cell_type": "raw",
   "id": "84283c50-75b2-43e0-9e4e-63296f88f28a",
   "metadata": {},
   "source": [
    "(i) / (Division Operator):\n",
    "The / operator is used for division. It divides the value on the left by the value on the right.\n",
    "\n",
    "Example:"
   ]
  },
  {
   "cell_type": "raw",
   "id": "9cdf08a1-69b0-4359-a32e-5d531c4e7402",
   "metadata": {},
   "source": [
    "a = 10\n",
    "b = 3\n",
    "result = a / b\n",
    "print(result)"
   ]
  },
  {
   "cell_type": "code",
   "execution_count": 20,
   "id": "c6f12839-0db4-4431-b2e1-aebf601115d0",
   "metadata": {},
   "outputs": [],
   "source": [
    "#In this example, a / b divides 10 by 3, resulting in a floating-point number, 3.3333333333333335."
   ]
  },
  {
   "cell_type": "raw",
   "id": "2bea9945-eef5-4c12-b1b4-e53c45a6d8c1",
   "metadata": {},
   "source": [
    "(ii) % (Modulus Operator):\n",
    "The % operator is used for the modulus operation. It returns the remainder when the value on the left is divided by the value on the right."
   ]
  },
  {
   "cell_type": "code",
   "execution_count": 21,
   "id": "c9f0098e-b13c-4997-b6f4-3da1a322bc94",
   "metadata": {},
   "outputs": [
    {
     "name": "stdout",
     "output_type": "stream",
     "text": [
      "1\n"
     ]
    }
   ],
   "source": [
    "a = 10\n",
    "b = 3\n",
    "result = a % b\n",
    "print(result)"
   ]
  },
  {
   "cell_type": "code",
   "execution_count": 22,
   "id": "13fd9818-88cc-4141-9b69-92cfbc460345",
   "metadata": {},
   "outputs": [],
   "source": [
    "#In this example, a % b calculates the remainder when 10 is divided by 3, which is 1."
   ]
  },
  {
   "cell_type": "raw",
   "id": "01bc9b5c-7f43-433a-9c2d-53727a9bc096",
   "metadata": {},
   "source": [
    "(iii) // (Floor Division Operator):\n",
    "The // operator is used for floor division. It divides the value on the left by the value on the right and rounds down to the nearest whole number."
   ]
  },
  {
   "cell_type": "code",
   "execution_count": 23,
   "id": "81811b51-5238-4eb5-b027-f5522ba7b889",
   "metadata": {},
   "outputs": [
    {
     "name": "stdout",
     "output_type": "stream",
     "text": [
      "3\n"
     ]
    }
   ],
   "source": [
    "a = 10\n",
    "b = 3\n",
    "result = a // b\n",
    "print(result) "
   ]
  },
  {
   "cell_type": "code",
   "execution_count": 24,
   "id": "07e22182-0f66-4c13-9e51-90438550395e",
   "metadata": {},
   "outputs": [],
   "source": [
    "#In this example, a // b divides 10 by 3 and rounds down to the nearest whole number, which is 3."
   ]
  },
  {
   "cell_type": "raw",
   "id": "19eb75ed-977b-4a11-999d-6cfbaf4423f4",
   "metadata": {},
   "source": [
    "(iv) ** (Exponentiation Operator):\n",
    "The ** operator is used for exponentiation. It raises the value on the left to the power of the value on the right."
   ]
  },
  {
   "cell_type": "code",
   "execution_count": 26,
   "id": "6d4d2f78-10f3-4a87-9342-4adb236ef4dc",
   "metadata": {},
   "outputs": [
    {
     "name": "stdout",
     "output_type": "stream",
     "text": [
      "8\n"
     ]
    }
   ],
   "source": [
    "a = 2\n",
    "b = 3\n",
    "result = a ** b\n",
    "print(result)"
   ]
  },
  {
   "cell_type": "code",
   "execution_count": 27,
   "id": "79d66542-05ff-411e-b2e3-5650bf7c730f",
   "metadata": {},
   "outputs": [],
   "source": [
    "#In this example, a ** b calculates 2 raised to the power of 3, which is 8."
   ]
  },
  {
   "cell_type": "raw",
   "id": "06513a73-8f39-4a0c-8cc8-425bce7144c7",
   "metadata": {},
   "source": [
    "Q4. Create a list of length 10 of your choice containing multiple types of data. Using for loop print the\n",
    "element and its data type."
   ]
  },
  {
   "cell_type": "code",
   "execution_count": 31,
   "id": "2f5ceaaf-80ba-412a-99cf-440e6251b833",
   "metadata": {},
   "outputs": [
    {
     "name": "stdout",
     "output_type": "stream",
     "text": [
      "<class 'int'>\n",
      "1\n",
      "<class 'int'>\n",
      "2\n",
      "<class 'float'>\n",
      "3.4\n",
      "<class 'str'>\n",
      "abc\n",
      "<class 'int'>\n",
      "23\n",
      "<class 'int'>\n",
      "4578\n",
      "<class 'float'>\n",
      "4.56\n",
      "<class 'bool'>\n",
      "True\n",
      "<class 'bool'>\n",
      "False\n"
     ]
    }
   ],
   "source": [
    "a = [ 1,2,3.4,'abc',23,4578,4.56,True,False]\n",
    "for i in a :\n",
    "  print(type (i))\n",
    "  print (i)"
   ]
  },
  {
   "cell_type": "raw",
   "id": "63059383-57fd-4d77-b94c-d07a24c91854",
   "metadata": {},
   "source": [
    "Q5. Using a while loop, verify if the number A is purely divisible by number B and if so then how many\n",
    "times it can be divisible."
   ]
  },
  {
   "cell_type": "code",
   "execution_count": 40,
   "id": "5d3ecd2a-af3f-4df9-89e5-3a0e3f9fabd1",
   "metadata": {},
   "outputs": [
    {
     "name": "stdin",
     "output_type": "stream",
     "text": [
      " 64\n",
      " 6\n"
     ]
    },
    {
     "name": "stdout",
     "output_type": "stream",
     "text": [
      "64 is not purely divisible by 6. Remainder: 4\n"
     ]
    }
   ],
   "source": [
    "# Input the two numbers A and B\n",
    "A = int (input())\n",
    "B = int (input())\n",
    "\n",
    "# Initialize a count variable to keep track of the number of divisions\n",
    "count = 0\n",
    "\n",
    "# Verify if A is divisible by B and count the divisions\n",
    "while A >= B:\n",
    "    if A % B == 0:\n",
    "        A = A // B  # Perform floor division\n",
    "        count += 1\n",
    "    else:\n",
    "        break  # Break the loop if there's a remainder\n",
    "\n",
    "if A == 0:\n",
    "    print(f\"{A} is purely divisible by {B} {count} times.\")\n",
    "else:\n",
    "    print(f\"{A} is not purely divisible by {B}. Remainder: {A % B}\")\n",
    "    \n",
    "        "
   ]
  },
  {
   "cell_type": "raw",
   "id": "14974522-56bf-47cf-b8cf-f25e52407179",
   "metadata": {},
   "source": [
    "Q6. Create a list containing 25 int type data. Using for loop and if-else condition print if the element is\n",
    "divisible by 3 or not."
   ]
  },
  {
   "cell_type": "code",
   "execution_count": 46,
   "id": "f2b8ee88-0d2a-429b-beb8-d9ae50159406",
   "metadata": {},
   "outputs": [
    {
     "name": "stdout",
     "output_type": "stream",
     "text": [
      "10\n",
      "is not divisible by 3\n",
      "21\n",
      "is divisible by 3\n",
      "6\n",
      "is divisible by 3\n",
      "8\n",
      "is not divisible by 3\n",
      "9\n",
      "is divisible by 3\n",
      "15\n",
      "is divisible by 3\n",
      "30\n",
      "is divisible by 3\n",
      "11\n",
      "is not divisible by 3\n",
      "12\n",
      "is divisible by 3\n",
      "33\n",
      "is divisible by 3\n",
      "18\n",
      "is divisible by 3\n",
      "7\n",
      "is not divisible by 3\n",
      "4\n",
      "is not divisible by 3\n",
      "36\n",
      "is divisible by 3\n",
      "25\n",
      "is not divisible by 3\n",
      "42\n",
      "is divisible by 3\n",
      "2\n",
      "is not divisible by 3\n",
      "22\n",
      "is not divisible by 3\n",
      "27\n",
      "is divisible by 3\n",
      "16\n",
      "is not divisible by 3\n",
      "19\n",
      "is not divisible by 3\n",
      "14\n",
      "is not divisible by 3\n",
      "20\n",
      "is not divisible by 3\n",
      "24\n",
      "is divisible by 3\n",
      "13\n",
      "is not divisible by 3\n"
     ]
    }
   ],
   "source": [
    "A = [10, 21, 6, 8, 9, 15, 30, 11, 12, 33, 18, 7, 4, 36, 25, 42, 2, 22, 27, 16, 19, 14, 20, 24, 13]\n",
    "for n in A:\n",
    "    if n % 3 == 0:\n",
    "        print (n)\n",
    "        print(\"is divisible by 3\")\n",
    "    else:\n",
    "        print (n)\n",
    "        print(\"is not divisible by 3\")\n"
   ]
  },
  {
   "cell_type": "raw",
   "id": "f71c1f0e-7d53-41b7-a9bc-e01af0e9ba18",
   "metadata": {},
   "source": [
    "Q7. What do you understand about mutable and immutable data types? Give examples for both showing\n",
    "this property."
   ]
  },
  {
   "cell_type": "code",
   "execution_count": null,
   "id": "5e6eb67f-fd67-449f-af5b-c10144e94f98",
   "metadata": {},
   "outputs": [],
   "source": []
  }
 ],
 "metadata": {
  "kernelspec": {
   "display_name": "Python 3 (ipykernel)",
   "language": "python",
   "name": "python3"
  },
  "language_info": {
   "codemirror_mode": {
    "name": "ipython",
    "version": 3
   },
   "file_extension": ".py",
   "mimetype": "text/x-python",
   "name": "python",
   "nbconvert_exporter": "python",
   "pygments_lexer": "ipython3",
   "version": "3.10.8"
  }
 },
 "nbformat": 4,
 "nbformat_minor": 5
}
