{
 "cells": [
  {
   "cell_type": "markdown",
   "id": "bcf837fc-852c-4cee-b76e-49dce9e75f1a",
   "metadata": {},
   "source": [
    "Q1. Which keyword is used to create a function? Create a function to return a list of odd numbers in the\n",
    "range of 1 to 25."
   ]
  },
  {
   "cell_type": "markdown",
   "id": "2bf0f19f-3c18-4d71-9865-a16abfa614e5",
   "metadata": {},
   "source": [
    "The keyword used to create a function in Python is `def`."
   ]
  },
  {
   "cell_type": "code",
   "execution_count": 1,
   "id": "e766916a-a345-47cc-a7e5-d8bcacb28b72",
   "metadata": {},
   "outputs": [
    {
     "name": "stdout",
     "output_type": "stream",
     "text": [
      "[1, 3, 5, 7, 9, 11, 13, 15, 17, 19, 21, 23, 25]\n"
     ]
    }
   ],
   "source": [
    "def get_odd_numbers():\n",
    "    odd_numbers = []\n",
    "    for num in range(1, 26):\n",
    "        if num % 2 != 0:\n",
    "            odd_numbers.append(num)\n",
    "    return odd_numbers\n",
    "\n",
    "# Call the function and print the result\n",
    "odd_numbers_list = get_odd_numbers()\n",
    "print(odd_numbers_list)"
   ]
  },
  {
   "cell_type": "markdown",
   "id": "31ad3c1a-0c92-4901-afc5-3b15c2fa3593",
   "metadata": {},
   "source": [
    "Q2. Why *args and **kwargs is used in some functions? Create a function each for *args and **kwargs\n",
    "to demonstrate their use."
   ]
  },
  {
   "cell_type": "markdown",
   "id": "3ccd98fb-72c7-4883-a3a8-ba3fc7af4e7d",
   "metadata": {},
   "source": [
    "*args and **kwargs are commonly used in Python functions to handle variable-length arguments. They allow you to pass a variable number of arguments to a function without specifying the exact number of arguments in advance. Here's an explanation of each:\n",
    "\n",
    "*args (Positional Arguments):\n",
    "\n",
    "*args is used to pass a variable number of non-keyword (positional) arguments to a function.\n",
    "It collects these arguments into a tuple, which can then be iterated through or used as needed within the function.\n",
    "**kwargs (Keyword Arguments):\n",
    "\n",
    "**kwargs is used to pass a variable number of keyword arguments to a function.\n",
    "It collects these keyword arguments into a dictionary, where the keys are the argument names and the values are the associated values."
   ]
  },
  {
   "cell_type": "code",
   "execution_count": 2,
   "id": "90f331cb-ac33-427e-ad41-ae7d8f8656f0",
   "metadata": {},
   "outputs": [
    {
     "name": "stdout",
     "output_type": "stream",
     "text": [
      "15\n",
      "name: John\n",
      "age: 30\n",
      "city: New York\n"
     ]
    }
   ],
   "source": [
    "# Function using *args\n",
    "def sum_all(*args):\n",
    "    total = 0\n",
    "    for num in args:\n",
    "        total += num\n",
    "    return total\n",
    "\n",
    "result = sum_all(1, 2, 3, 4, 5)\n",
    "print(result)  # Output: 15\n",
    "\n",
    "# Function using **kwargs\n",
    "def print_info(**kwargs):\n",
    "    for key, value in kwargs.items():\n",
    "        print(f\"{key}: {value}\")\n",
    "\n",
    "print_info(name=\"John\", age=30, city=\"New York\")\n",
    "# Output:\n",
    "# name: John\n",
    "# age: 30\n",
    "# city: New York\n"
   ]
  },
  {
   "cell_type": "markdown",
   "id": "c7087769-b68e-4f80-a482-3f44da471171",
   "metadata": {},
   "source": [
    "Q3. What is an iterator in python? Name the method used to initialise the iterator object and the method\n",
    "used for iteration. Use these methods to print the first five elements of the given list [2, 4, 6, 8, 10, 12, 14,\n",
    "16, 18, 20]."
   ]
  },
  {
   "cell_type": "markdown",
   "id": "d3392ad2-f3c7-41f0-aa23-b8fe9396fd91",
   "metadata": {},
   "source": [
    "In Python, an iterator is an object that allows you to traverse a sequence of elements, such as a list, tuple, or other iterable objects, one element at a time. Iterators provide two main methods for interacting with them:\n",
    "\n",
    "iter(): This method is used to initialize an iterator object. When you call iter(iterable), it returns an iterator for the given iterable object.\n",
    "\n",
    "next(): This method is used for iteration. When you call next(iterator), it retrieves the next element from the iterator. If there are no more elements, it raises a StopIteration exception.\n"
   ]
  },
  {
   "cell_type": "code",
   "execution_count": 3,
   "id": "a061f6a8-cc0f-418f-b05e-7e41794d8984",
   "metadata": {},
   "outputs": [
    {
     "name": "stdout",
     "output_type": "stream",
     "text": [
      "2\n",
      "4\n",
      "6\n",
      "8\n",
      "10\n"
     ]
    }
   ],
   "source": [
    "# Create an iterator for the list\n",
    "my_list = [2, 4, 6, 8, 10, 12, 14, 16, 18, 20]\n",
    "my_iterator = iter(my_list)\n",
    "\n",
    "# Print the first five elements\n",
    "for _ in range(5):\n",
    "    try:\n",
    "        element = next(my_iterator)\n",
    "        print(element)\n",
    "    except StopIteration:\n",
    "        break\n"
   ]
  },
  {
   "cell_type": "markdown",
   "id": "b59fcd97-2dd7-4139-866a-1eff89fcb2b6",
   "metadata": {},
   "source": [
    "Q4. What is a generator function in python? Why yield keyword is used? Give an example of a generator\n",
    "function."
   ]
  },
  {
   "cell_type": "markdown",
   "id": "be176734-e930-4267-bfd2-c06b5911e961",
   "metadata": {},
   "source": [
    "A generator function in Python is a special type of function that allows you to generate a sequence of values on-the-fly without the need to create and store the entire sequence in memory. This is especially useful when dealing with large datasets or when you want to iterate over a potentially infinite sequence. Generator functions are defined using the yield keyword.\n",
    "\n",
    "The yield keyword is used in a generator function to yield a value and temporarily pause the function's execution. The state of the function is saved, and you can resume execution from where it left off the next time you request the next value from the generator. This lazy evaluation allows for efficient memory usage and more efficient processing of large datasets."
   ]
  },
  {
   "cell_type": "code",
   "execution_count": 4,
   "id": "e331d3f4-8e3b-4dba-b737-3e89f937f25a",
   "metadata": {},
   "outputs": [
    {
     "name": "stdout",
     "output_type": "stream",
     "text": [
      "5\n",
      "4\n",
      "3\n",
      "2\n",
      "1\n"
     ]
    }
   ],
   "source": [
    "def countdown(n):\n",
    "    while n > 0:\n",
    "        yield n\n",
    "        n -= 1\n",
    "\n",
    "# Create a generator object\n",
    "countdown_generator = countdown(5)\n",
    "\n",
    "# Iterating over the generator\n",
    "for value in countdown_generator:\n",
    "    print(value)\n",
    "\n",
    "# Output:\n",
    "# 5\n",
    "# 4\n",
    "# 3\n",
    "# 2\n",
    "# 1"
   ]
  },
  {
   "cell_type": "markdown",
   "id": "2b545c72-1178-4f82-a8e4-c55c68e9a44d",
   "metadata": {},
   "source": [
    "Q5. Create a generator function for prime numbers less than 1000. Use the next() method to print the\n",
    "first 20 prime numbers."
   ]
  },
  {
   "cell_type": "code",
   "execution_count": 5,
   "id": "1682c0e7-f4ef-499f-8372-4f83640f032f",
   "metadata": {},
   "outputs": [
    {
     "name": "stdout",
     "output_type": "stream",
     "text": [
      "2\n",
      "3\n",
      "5\n",
      "7\n",
      "11\n",
      "13\n",
      "17\n",
      "19\n",
      "23\n",
      "29\n",
      "31\n",
      "37\n",
      "41\n",
      "43\n",
      "47\n",
      "53\n",
      "59\n",
      "61\n",
      "67\n",
      "71\n"
     ]
    }
   ],
   "source": [
    "def is_prime(n):\n",
    "    if n <= 1:\n",
    "        return False\n",
    "    if n <= 3:\n",
    "        return True\n",
    "    if n % 2 == 0 or n % 3 == 0:\n",
    "        return False\n",
    "\n",
    "    i = 5\n",
    "    while i * i <= n:\n",
    "        if n % i == 0 or n % (i + 2) == 0:\n",
    "            return False\n",
    "        i += 6\n",
    "\n",
    "    return True\n",
    "\n",
    "def prime_generator(limit):\n",
    "    count = 0\n",
    "    number = 2\n",
    "    while count < limit:\n",
    "        if is_prime(number):\n",
    "            yield number\n",
    "            count += 1\n",
    "        number += 1\n",
    "\n",
    "# Create a generator object\n",
    "prime_gen = prime_generator(20)\n",
    "\n",
    "# Use the next() method to print the first 20 prime numbers\n",
    "for _ in range(20):\n",
    "    print(next(prime_gen))"
   ]
  },
  {
   "cell_type": "markdown",
   "id": "6b6338a0-1571-4eb4-a034-69a9f713118c",
   "metadata": {},
   "source": [
    "Q6. Write a python program to print the first 10 Fibonacci numbers using a while loop."
   ]
  },
  {
   "cell_type": "code",
   "execution_count": 6,
   "id": "4ce5b317-6796-40e2-9abf-39a4069d224a",
   "metadata": {},
   "outputs": [
    {
     "name": "stdout",
     "output_type": "stream",
     "text": [
      "0 1 1 2 3 5 8 13 21 34 "
     ]
    }
   ],
   "source": [
    "# Initialize variables to store the first two Fibonacci numbers\n",
    "a, b = 0, 1\n",
    "\n",
    "# Initialize a counter to keep track of the number of Fibonacci numbers printed\n",
    "count = 0\n",
    "\n",
    "# Define the number of Fibonacci numbers to print\n",
    "n = 10\n",
    "\n",
    "# Print the first n Fibonacci numbers using a while loop\n",
    "while count < n:\n",
    "    print(a, end=\" \")  # Print the current Fibonacci number\n",
    "    a, b = b, a + b  # Calculate the next Fibonacci number\n",
    "    count += 1\n",
    "\n",
    "# Output: 0 1 1 2 3 5 8 13 21 34"
   ]
  },
  {
   "cell_type": "markdown",
   "id": "178607a4-1623-455c-aeff-944a566d4c1d",
   "metadata": {},
   "source": [
    "Q7. Write a List Comprehension to iterate through the given string: ‘pwskills’.\n",
    "Expected output: ['p', 'w', 's', 'k', 'i', 'l', 'l', 's']"
   ]
  },
  {
   "cell_type": "code",
   "execution_count": 8,
   "id": "250d06f3-3acd-4a43-98dc-a2c6a76e0eda",
   "metadata": {},
   "outputs": [
    {
     "name": "stdout",
     "output_type": "stream",
     "text": [
      "['p', 'w', 's', 'k', 'i', 'l', 'l', 's']\n"
     ]
    }
   ],
   "source": [
    "input_string = 'pwskills'\n",
    "output_list = [char for char in input_string]\n",
    "\n",
    "print(output_list)\n"
   ]
  },
  {
   "cell_type": "markdown",
   "id": "65083d99-9fe5-4b7f-b2ba-e2ae66e6b688",
   "metadata": {},
   "source": [
    "Q8. Write a python program to check whether a given number is Palindrome or not using a while loop."
   ]
  },
  {
   "cell_type": "code",
   "execution_count": null,
   "id": "058ab839-ef47-41f2-9c30-f08d6262a4ca",
   "metadata": {},
   "outputs": [],
   "source": [
    "def is_palindrome(number):\n",
    "    original_number = number\n",
    "    reversed_number = 0\n",
    "\n",
    "    while number > 0:\n",
    "        remainder = number % 10\n",
    "        reversed_number = reversed_number * 10 + remainder\n",
    "        number = number // 10\n",
    "\n",
    "    return original_number == reversed_number\n",
    "\n",
    "# Input the number to check for palindrome\n",
    "num = int(input(\"Enter a number: \"))\n",
    "\n",
    "if is_palindrome(num):\n",
    "    print(f\"{num} is a palindrome.\")\n",
    "else:\n",
    "    print(f\"{num} is not a palindrome.\")\n"
   ]
  },
  {
   "cell_type": "code",
   "execution_count": null,
   "id": "85d4946e-24c5-48e7-ba40-b7b1e45eafa2",
   "metadata": {},
   "outputs": [],
   "source": []
  }
 ],
 "metadata": {
  "kernelspec": {
   "display_name": "Python 3 (ipykernel)",
   "language": "python",
   "name": "python3"
  },
  "language_info": {
   "codemirror_mode": {
    "name": "ipython",
    "version": 3
   },
   "file_extension": ".py",
   "mimetype": "text/x-python",
   "name": "python",
   "nbconvert_exporter": "python",
   "pygments_lexer": "ipython3",
   "version": "3.10.8"
  }
 },
 "nbformat": 4,
 "nbformat_minor": 5
}
